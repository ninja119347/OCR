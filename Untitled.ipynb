{
 "cells": [
  {
   "cell_type": "code",
   "execution_count": 11,
   "id": "177d2951",
   "metadata": {},
   "outputs": [],
   "source": [
    "import paddlehub as hub\n",
    "from PIL import Image\n",
    "import os\n",
    "import cv2 as cv\n",
    "import fitz"
   ]
  },
  {
   "cell_type": "code",
   "execution_count": 12,
   "id": "322e9991",
   "metadata": {},
   "outputs": [],
   "source": [
    "def pdf_image(pdf_path,zoom_x,zoom_y,rotation_angle):\n",
    "  # 打开PDF文件\n",
    "    pdf = fitz.open(pdf_path)\n",
    "    img_path=pdf_path.replace('pdf','')+'png'\n",
    "  # 逐页读取PDF\n",
    "    for pg in range(0, 1):\n",
    "        page = pdf[pg]\n",
    "    # 设置缩放和旋转系数\n",
    "        trans = fitz.Matrix(zoom_x, zoom_y).preRotate(rotation_angle)\n",
    "        pm = page.getPixmap(matrix=trans, alpha=False)\n",
    "    # 开始写图像\n",
    "        pm.writePNG(img_path)\n",
    "        #pm.writePNG(imgPath)\n",
    "        return img_path\n",
    "    pdf.close()\n",
    "# pdf_path ='D:/123.pdf'\n",
    "# img_path ='D:/123.png'\n",
    "# pdf_image(pdf_path,img_path,5,5,0)\n",
    "def get_FileSize(filePath):\n",
    "    fsize = os.path.getsize(filePath)\n",
    "    fsize = fsize/float(1024*1024)\n",
    "    return round(fsize,2)"
   ]
  },
  {
   "cell_type": "code",
   "execution_count": 50,
   "id": "7d48afc8",
   "metadata": {},
   "outputs": [],
   "source": [
    "def ocr_fun(pdf_path, ocr_type='patent'):\n",
    "    ocr = hub.Module(name=\"chinese_ocr_db_crnn_mobile\")\n",
    "    zoom_x = 1.33333333\n",
    "    zoom_y = 1.33333333\n",
    "    if(get_FileSize(pdf_path)>0.75):\n",
    "        zoom_x = 0.5\n",
    "        zoom_y = 0.5\n",
    "    img_path=pdf_image(pdf_path,zoom_x,zoom_y,0)\n",
    "    # img_path='./patent.png'\n",
    "    results = ocr.recognize_text(images=[cv.imread(img_path)],\n",
    "                                use_gpu=False,\n",
    "                                output_dir='ocr_result',\n",
    "                                visualization=True,\n",
    "                                box_thresh=0.5,\n",
    "                                text_thresh=0.5)\n",
    "    dict = {'证书号':'','发明名称':'','发明人':'','专利号':'','专利申请日':'','专利权人':'','授权公告日':'','授权公告号':''}\n",
    "    dict_1 = {'软件名称':'','著作权人':'','开发完成日期':'','权利取得方式':'','权利范围':'','登记号':''}\n",
    "    if(ocr_type=='software'):\n",
    "        for result in results:\n",
    "            data = result['data']\n",
    "            save_path = result['save_path']\n",
    "            for information in data:\n",
    "                if(information['text'].startswith('软件名称')):\n",
    "                    dict_1['软件名称']=information['text'].lstrip().lstrip('软件名称').replace('：','')\n",
    "                elif(information['text'].startswith('著作权人')):\n",
    "                    dict_1['著作权人']=information['text'].lstrip().lstrip('著作权人').replace('：',' ').lstrip()\n",
    "                elif(information['text'].startswith('开发完成日期')):\n",
    "                    dict_1['开发完成日期']=information['text'].lstrip().lstrip('开发完成日期').replace('：','')\n",
    "                elif(information['text'].startswith('权利取得方式')):\n",
    "                    dict_1['权利取得方式']=information['text'].lstrip().lstrip('权利取得方式').replace('：','')\n",
    "                elif(information['text'].startswith('权利范围')):\n",
    "                    dict_1['权利范围']=information['text'].lstrip().lstrip('权利范围').replace('：','')\n",
    "                elif(information['text'].startswith('登记号')):\n",
    "                    dict_1['登记号']=information['text'].lstrip().lstrip('登记号').replace('：','')\n",
    "                elif(information['text'].startswith('号')):\n",
    "                    dict_1['登记号']=information['text'].lstrip().lstrip('号').replace('：','')\n",
    "                elif(information['text'].startswith('记号')):\n",
    "                    dict_1['登记号']=information['text'].lstrip().lstrip('记号').replace('：','')\n",
    "#                 print('text: ', information['text'], '\\nconfidence: ', information['confidence'], '\\ntext_box_position: ', information['text_box_position'])\n",
    "    elif(ocr_type=='patent'):\n",
    "        for result in results:\n",
    "            data = result['data']\n",
    "            save_path = result['save_path']\n",
    "            for information in data:\n",
    "                if(information['text'].startswith('证书号')):\n",
    "                    dict['证书号']=information['text'].lstrip().lstrip('证书号').replace('第','').replace('号','')\n",
    "                elif(information['text'].startswith('发明名称')):\n",
    "                    dict['发明名称']=information['text'].lstrip().lstrip('发明名称').replace('：','')\n",
    "                elif(information['text'].startswith('发明人')):\n",
    "                    dict['发明人']=information['text'].lstrip().lstrip('发明人').replace('；','').replace('：','')\n",
    "                elif(information['text'].startswith('专利号')):\n",
    "                    dict['专利号']=information['text'].lstrip().lstrip('专利号').replace('：','')\n",
    "                elif(information['text'].startswith('号')):\n",
    "                    dict['专利号']=information['text'].lstrip().lstrip('号').replace('：','')\n",
    "                elif(information['text'].startswith('利号')):\n",
    "                    dict['专利号']=information['text'].lstrip().lstrip('利号').replace('：','')\n",
    "                elif(information['text'].startswith('专利申请日')):\n",
    "                    dict['专利申请日']=information['text'].lstrip().lstrip('专利申请日').replace('；','').replace('：','')\n",
    "                elif(information['text'].startswith('专利权人：')):\n",
    "                    dict['专利权人']=information['text'].lstrip('专利权人').replace('；',' ').replace('：',' ').lstrip()\n",
    "                elif(information['text'].startswith('授权公告日')):\n",
    "                    dict['授权公告日']=information['text'].lstrip().lstrip('授权公告日').replace('；','').replace('：','')\n",
    "                elif(information['text'].startswith('授权公告号')):\n",
    "                    dict['授权公告号']=information['text'].lstrip().lstrip('授权公告号').replace('：','')\n",
    "    os.remove(img_path)\n",
    "    if(ocr_type=='patent'):\n",
    "        return dict\n",
    "    else:\n",
    "        return dict_1\n",
    "#                 print('text: ', information['text'], '\\nconfidence: ', information['confidence'], '\\ntext_box_position: ', information['text_box_position'])            "
   ]
  },
  {
   "cell_type": "code",
   "execution_count": 60,
   "id": "243212ab",
   "metadata": {},
   "outputs": [
    {
     "name": "stderr",
     "output_type": "stream",
     "text": [
      "[2021-10-31 11:18:04,916] [ WARNING] - The _initialize method in HubModule will soon be deprecated, you can use the __init__() to handle the initialization of the object\n",
      "[2021-10-31 11:18:05,754] [ WARNING] - The _initialize method in HubModule will soon be deprecated, you can use the __init__() to handle the initialization of the object\n"
     ]
    }
   ],
   "source": [
    "# dic=ocr_fun('./software_1.pdf','software')"
   ]
  },
  {
   "cell_type": "code",
   "execution_count": 62,
   "id": "42297c4c",
   "metadata": {},
   "outputs": [
    {
     "name": "stdout",
     "output_type": "stream",
     "text": [
      "软件名称: 计算机组成原理虚拟仿真实验室平台\n",
      "著作权人: 中南大学\n",
      "开发完成日期: 2020年10月10日\n",
      "权利取得方式: 原始取得\n",
      "权利范围: 全部权利\n",
      "登记号: 2021SR0338087\n"
     ]
    }
   ],
   "source": [
    "# for keys,contens in dic.items():\n",
    "#     print(keys+\": \"+contens)"
   ]
  }
 ],
 "metadata": {
  "kernelspec": {
   "display_name": "Python 3",
   "language": "python",
   "name": "python3"
  },
  "language_info": {
   "codemirror_mode": {
    "name": "ipython",
    "version": 3
   },
   "file_extension": ".py",
   "mimetype": "text/x-python",
   "name": "python",
   "nbconvert_exporter": "python",
   "pygments_lexer": "ipython3",
   "version": "3.8.8"
  }
 },
 "nbformat": 4,
 "nbformat_minor": 5
}
